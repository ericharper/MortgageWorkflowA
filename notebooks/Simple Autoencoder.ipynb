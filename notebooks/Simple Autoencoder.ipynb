{
 "cells": [
  {
   "cell_type": "code",
   "execution_count": 1,
   "metadata": {},
   "outputs": [],
   "source": [
    "import sys\n",
    "import glob\n",
    "\n",
    "sys.path.insert(0, '/home/eharper/github_projects/evenoldridge/BatchDataloader')"
   ]
  },
  {
   "cell_type": "code",
   "execution_count": 2,
   "metadata": {},
   "outputs": [],
   "source": [
    "from batch_dataloader import BatchDataLoader\n",
    "from batch_dataset import BatchDataset\n",
    "from batch_dataset import TensorBatchDataset\n",
    "\n",
    "import pandas as pd\n",
    "import numpy as np\n",
    "import pyarrow.parquet as pq\n",
    "import torch\n",
    "import torch.nn as nn\n",
    "import torch.optim as optim"
   ]
  },
  {
   "cell_type": "code",
   "execution_count": 3,
   "metadata": {},
   "outputs": [],
   "source": [
    "PARQUET_DIR = '/home/eharper/yagr_projects/pytorch-dataloading/train_parquet'\n",
    "\n",
    "INPUT_DIM = 7\n",
    "LATENT_DIM = 3"
   ]
  },
  {
   "cell_type": "code",
   "execution_count": 4,
   "metadata": {},
   "outputs": [],
   "source": [
    "parquet_filepaths = glob.glob(PARQUET_DIR + '/*.parquet')"
   ]
  },
  {
   "cell_type": "code",
   "execution_count": 5,
   "metadata": {},
   "outputs": [],
   "source": [
    "class Autoencoder(nn.Module):\n",
    "    def __init__(self, input_dim, latent_dim):\n",
    "        super(Autoencoder, self).__init__()\n",
    "        \n",
    "        self.input_dim = input_dim\n",
    "        self.latent_dim = latent_dim\n",
    "        \n",
    "        self.encoder = nn.Sequential(\n",
    "            nn.Linear(self.input_dim, 96),\n",
    "            nn.Tanh(),\n",
    "            nn.Dropout(.1),\n",
    "            nn.Linear(96, 64),\n",
    "            nn.Tanh(),\n",
    "            nn.Dropout(.1),\n",
    "            nn.Linear(64, 48),\n",
    "            nn.Tanh(),\n",
    "            nn.Dropout(.1),\n",
    "            nn.Linear(48, 16),\n",
    "            nn.Tanh(),\n",
    "            nn.Dropout(.1),\n",
    "            nn.Linear(16, self.latent_dim),\n",
    "            nn.ReLU()\n",
    "        )\n",
    "        \n",
    "        self.decoder = nn.Sequential(\n",
    "            nn.Linear(self.latent_dim, 16),\n",
    "            nn.Tanh(),\n",
    "            nn.Dropout(.1),\n",
    "            nn.Linear(16, 48),\n",
    "            nn.Tanh(),\n",
    "            nn.Dropout(.1),\n",
    "            nn.Linear(48, 64),\n",
    "            nn.Tanh(),\n",
    "            nn.Dropout(.1),\n",
    "            nn.Linear(64, 96),\n",
    "            nn.Tanh(),\n",
    "            nn.Dropout(.1),\n",
    "            nn.Linear(96, self.input_dim),\n",
    "            nn.ReLU()\n",
    "        )\n",
    "        \n",
    "    def forward(self, x):\n",
    "        x = self.encoder(x)\n",
    "        x = self.decoder(x)\n",
    "        return x"
   ]
  },
  {
   "cell_type": "code",
   "execution_count": 6,
   "metadata": {},
   "outputs": [],
   "source": [
    "autoencoder = Autoencoder(INPUT_DIM, LATENT_DIM)"
   ]
  },
  {
   "cell_type": "code",
   "execution_count": 12,
   "metadata": {},
   "outputs": [],
   "source": [
    "criterion = nn.MSELoss()\n",
    "optimizer = optim.Adam(autoencoder.parameters(), lr=0.001)"
   ]
  },
  {
   "cell_type": "code",
   "execution_count": 13,
   "metadata": {},
   "outputs": [
    {
     "name": "stdout",
     "output_type": "stream",
     "text": [
      "Epoch 0 | Parquet 0 | Batch 0 | Loss 0.2980\n",
      "Epoch 0 | Parquet 0 | Batch 1 | Loss 0.2564\n",
      "Epoch 0 | Parquet 1 | Batch 0 | Loss 0.2426\n",
      "Epoch 0 | Parquet 1 | Batch 1 | Loss 0.2347\n",
      "Epoch 0 | Parquet 2 | Batch 0 | Loss 0.2148\n",
      "Epoch 0 | Parquet 2 | Batch 1 | Loss 0.2127\n",
      "Epoch 1 | Parquet 0 | Batch 0 | Loss 0.2042\n",
      "Epoch 1 | Parquet 0 | Batch 1 | Loss 0.1934\n",
      "Epoch 1 | Parquet 1 | Batch 0 | Loss 0.1886\n",
      "Epoch 1 | Parquet 1 | Batch 1 | Loss 0.1767\n",
      "Epoch 1 | Parquet 2 | Batch 0 | Loss 0.1907\n",
      "Epoch 1 | Parquet 2 | Batch 1 | Loss 0.1782\n"
     ]
    }
   ],
   "source": [
    "num_epochs = 2\n",
    "\n",
    "for epoch in range(num_epochs):\n",
    "    \n",
    "    for parquet_idx, parquet_path in enumerate(parquet_filepaths):\n",
    "        \n",
    "        parquet = pq.read_table(parquet_path)\n",
    "\n",
    "        tensors = [torch.from_numpy(parquet.to_pandas().values)]\n",
    "\n",
    "        tensor_batch_dataset = TensorBatchDataset(tensors, batch_size=20)\n",
    "\n",
    "        batch_loader = BatchDataLoader(tensor_batch_dataset,\n",
    "                                       shuffle=True,\n",
    "                                       drop_last=True)\n",
    "\n",
    "        for batch_idx, batch in enumerate(batch_loader):\n",
    "            batch = batch[0]\n",
    "            #print(batch)\n",
    "            reconstructions = autoencoder(batch)\n",
    "            loss = criterion(reconstructions, batch)\n",
    "            loss.backward()\n",
    "            optimizer.step()\n",
    "            \n",
    "            print('Epoch %d | Parquet %d | Batch %d | Loss %.4f' %\n",
    "                  (epoch, parquet_idx, batch_idx, loss.item())\n",
    "                 )"
   ]
  },
  {
   "cell_type": "code",
   "execution_count": null,
   "metadata": {},
   "outputs": [],
   "source": []
  }
 ],
 "metadata": {
  "kernelspec": {
   "display_name": "Python 3",
   "language": "python",
   "name": "python3"
  },
  "language_info": {
   "codemirror_mode": {
    "name": "ipython",
    "version": 3
   },
   "file_extension": ".py",
   "mimetype": "text/x-python",
   "name": "python",
   "nbconvert_exporter": "python",
   "pygments_lexer": "ipython3",
   "version": "3.7.3"
  }
 },
 "nbformat": 4,
 "nbformat_minor": 2
}
