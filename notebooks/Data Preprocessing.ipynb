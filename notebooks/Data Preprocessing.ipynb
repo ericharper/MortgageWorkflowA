{
 "cells": [
  {
   "cell_type": "code",
   "execution_count": 2,
   "metadata": {},
   "outputs": [],
   "source": [
    "from dask.distributed import Client, LocalCluster\n",
    "import dask\n",
    "import subprocess\n",
    "import dask.dataframe as dd\n",
    "import pandas as pd\n",
    "from dask_ml.compose import ColumnTransformer\n",
    "from sklearn.pipeline import Pipeline\n",
    "from dask_ml.preprocessing import Categorizer, OrdinalEncoder, MinMaxScaler\n",
    "from dask_ml.impute import SimpleImputer\n",
    "import pickle\n",
    "import time\n",
    "\n",
    "# pandas display configuration\n",
    "pd.set_option('display.float_format','{:.4f}'.format)\n",
    "pd.set_option('display.max_columns', None)\n",
    "pd.set_option('display.max_rows', 1000)"
   ]
  },
  {
   "cell_type": "code",
   "execution_count": 3,
   "metadata": {},
   "outputs": [],
   "source": [
    "# arguments\n",
    "DATA_PATH = './data/iris/iris.data'\n",
    "\n",
    "NAMES = ['sepal_length', 'sepal_width', 'petal_length', 'petal_width', 'species']\n",
    "\n",
    "CAT_COLS = ['species']\n",
    "\n",
    "NUMERIC_COLS = ['sepal_length', 'sepal_width', 'petal_length', 'petal_width']\n",
    "\n",
    "TRAIN_PCT = .8\n",
    "\n",
    "NUM_TRAINING_FILES = 3\n",
    "\n",
    "NUM_TEST_FILES = 2\n",
    "\n",
    "OUT_TRAIN_PATH = './train_parquet'\n",
    "\n",
    "OUT_TEST_PATH = './test_parquet'"
   ]
  },
  {
   "cell_type": "code",
   "execution_count": 4,
   "metadata": {},
   "outputs": [
    {
     "data": {
      "text/html": [
       "<table style=\"border: 2px solid white;\">\n",
       "<tr>\n",
       "<td style=\"vertical-align: top; border: 0px solid white\">\n",
       "<h3>Client</h3>\n",
       "<ul>\n",
       "  <li><b>Scheduler: </b>tcp://172.17.0.2:38993\n",
       "  <li><b>Dashboard: </b><a href='http://172.17.0.2:8787/status' target='_blank'>http://172.17.0.2:8787/status</a>\n",
       "</ul>\n",
       "</td>\n",
       "<td style=\"vertical-align: top; border: 0px solid white\">\n",
       "<h3>Cluster</h3>\n",
       "<ul>\n",
       "  <li><b>Workers: </b>8</li>\n",
       "  <li><b>Cores: </b>40</li>\n",
       "  <li><b>Memory: </b>270.39 GB</li>\n",
       "</ul>\n",
       "</td>\n",
       "</tr>\n",
       "</table>"
      ],
      "text/plain": [
       "<Client: scheduler='tcp://172.17.0.2:38993' processes=8 cores=40>"
      ]
     },
     "execution_count": 4,
     "metadata": {},
     "output_type": "execute_result"
    }
   ],
   "source": [
    "cmd = \"hostname --all-ip-addresses\"\n",
    "process = subprocess.Popen(cmd.split(), stdout=subprocess.PIPE)\n",
    "output, error = process.communicate()\n",
    "IPADDR = str(output.decode()).split()[0]\n",
    "\n",
    "cluster = LocalCluster(ip=IPADDR)\n",
    "client = Client(cluster)\n",
    "client"
   ]
  },
  {
   "cell_type": "code",
   "execution_count": 5,
   "metadata": {},
   "outputs": [],
   "source": [
    "df = dd.read_csv(DATA_PATH, names=NAMES, header=None)"
   ]
  },
  {
   "cell_type": "code",
   "execution_count": 6,
   "metadata": {},
   "outputs": [
    {
     "name": "stdout",
     "output_type": "stream",
     "text": [
      "   sepal_length  sepal_width  petal_length  petal_width      species\n",
      "0        5.1000       3.5000        1.4000       0.2000  Iris-setosa\n",
      "1        4.9000       3.0000        1.4000       0.2000  Iris-setosa\n",
      "2        4.7000       3.2000        1.3000       0.2000  Iris-setosa\n",
      "3        4.6000       3.1000        1.5000       0.2000  Iris-setosa\n",
      "4        5.0000       3.6000        1.4000       0.2000  Iris-setosa\n"
     ]
    }
   ],
   "source": [
    "print(df.head())"
   ]
  },
  {
   "cell_type": "code",
   "execution_count": 7,
   "metadata": {},
   "outputs": [],
   "source": [
    "# initially shuffle the data\n",
    "df = df.sample(frac=1.0, random_state=123)"
   ]
  },
  {
   "cell_type": "code",
   "execution_count": 8,
   "metadata": {},
   "outputs": [
    {
     "name": "stdout",
     "output_type": "stream",
     "text": [
      "     sepal_length  sepal_width  petal_length  petal_width         species\n",
      "17         5.1000       3.5000        1.4000       0.3000     Iris-setosa\n",
      "44         5.1000       3.8000        1.9000       0.4000     Iris-setosa\n",
      "7          5.0000       3.4000        1.5000       0.2000     Iris-setosa\n",
      "38         4.4000       3.0000        1.3000       0.2000     Iris-setosa\n",
      "105        7.6000       3.0000        6.6000       2.1000  Iris-virginica\n"
     ]
    }
   ],
   "source": [
    "print(df.head())"
   ]
  },
  {
   "cell_type": "code",
   "execution_count": 9,
   "metadata": {},
   "outputs": [],
   "source": [
    "# split into train/test\n",
    "train_idx = int(len(df) * TRAIN_PCT)\n",
    "train_df, test_df = df.random_split([TRAIN_PCT, 1 - TRAIN_PCT], random_state=123)"
   ]
  },
  {
   "cell_type": "code",
   "execution_count": 10,
   "metadata": {},
   "outputs": [
    {
     "name": "stdout",
     "output_type": "stream",
     "text": [
      "     sepal_length  sepal_width  petal_length  petal_width         species\n",
      "17         5.1000       3.5000        1.4000       0.3000     Iris-setosa\n",
      "44         5.1000       3.8000        1.9000       0.4000     Iris-setosa\n",
      "7          5.0000       3.4000        1.5000       0.2000     Iris-setosa\n",
      "38         4.4000       3.0000        1.3000       0.2000     Iris-setosa\n",
      "105        7.6000       3.0000        6.6000       2.1000  Iris-virginica\n"
     ]
    }
   ],
   "source": [
    "print(train_df.head())"
   ]
  },
  {
   "cell_type": "code",
   "execution_count": 11,
   "metadata": {},
   "outputs": [
    {
     "name": "stdout",
     "output_type": "stream",
     "text": [
      "     sepal_length  sepal_width  petal_length  petal_width          species\n",
      "25         5.0000       3.0000        1.6000       0.2000      Iris-setosa\n",
      "149        5.9000       3.0000        5.1000       1.8000   Iris-virginica\n",
      "82         5.8000       2.7000        3.9000       1.2000  Iris-versicolor\n",
      "56         6.3000       3.3000        4.7000       1.6000  Iris-versicolor\n",
      "55         5.7000       2.8000        4.5000       1.3000  Iris-versicolor\n"
     ]
    }
   ],
   "source": [
    "print(test_df.head())"
   ]
  },
  {
   "cell_type": "code",
   "execution_count": 12,
   "metadata": {},
   "outputs": [],
   "source": [
    "# scale numeric columns and label encode categorical columns\n",
    "zero_imputer = SimpleImputer(strategy='constant', fill_value=0)\n",
    "min_max_scaler = MinMaxScaler()\n",
    "\n",
    "numeric_transformer = Pipeline(\n",
    "    steps=[\n",
    "        ('zero_imputer', zero_imputer),\n",
    "        ('min_max_scaler', min_max_scaler)\n",
    "    ]\n",
    ")\n",
    "\n",
    "missing_category_imputer = SimpleImputer(strategy='constant', fill_value='missing')\n",
    "categorizer = Categorizer()\n",
    "ordinal_encoder = OrdinalEncoder()\n",
    "cat_transformer = Pipeline(\n",
    "    steps=[\n",
    "        ('missing_category_imputer', missing_category_imputer),\n",
    "        ('categorizer', categorizer),\n",
    "        ('ordinal', ordinal_encoder)\n",
    "    ]\n",
    ")\n",
    "\n",
    "preprocessor = ColumnTransformer(\n",
    "    transformers=[\n",
    "        ('numeric', numeric_transformer, NUMERIC_COLS),\n",
    "        ('categorical', cat_transformer, CAT_COLS)\n",
    "    ]\n",
    ")\n",
    "\n",
    "pipe = Pipeline(steps=[('preprocessor', preprocessor)])\n",
    "\n",
    "pipe.fit(train_df)\n",
    "train_df = pipe.transform(train_df)\n",
    "test_df = pipe.transform(test_df)"
   ]
  },
  {
   "cell_type": "code",
   "execution_count": 13,
   "metadata": {},
   "outputs": [
    {
     "data": {
      "text/html": [
       "<div>\n",
       "<style scoped>\n",
       "    .dataframe tbody tr th:only-of-type {\n",
       "        vertical-align: middle;\n",
       "    }\n",
       "\n",
       "    .dataframe tbody tr th {\n",
       "        vertical-align: top;\n",
       "    }\n",
       "\n",
       "    .dataframe thead th {\n",
       "        text-align: right;\n",
       "    }\n",
       "</style>\n",
       "<table border=\"1\" class=\"dataframe\">\n",
       "  <thead>\n",
       "    <tr style=\"text-align: right;\">\n",
       "      <th></th>\n",
       "      <th>sepal_length</th>\n",
       "      <th>sepal_width</th>\n",
       "      <th>petal_length</th>\n",
       "      <th>petal_width</th>\n",
       "      <th>species</th>\n",
       "    </tr>\n",
       "  </thead>\n",
       "  <tbody>\n",
       "    <tr>\n",
       "      <th>17</th>\n",
       "      <td>0.2000</td>\n",
       "      <td>0.6818</td>\n",
       "      <td>0.0678</td>\n",
       "      <td>0.0833</td>\n",
       "      <td>0</td>\n",
       "    </tr>\n",
       "    <tr>\n",
       "      <th>44</th>\n",
       "      <td>0.2000</td>\n",
       "      <td>0.8182</td>\n",
       "      <td>0.1525</td>\n",
       "      <td>0.1250</td>\n",
       "      <td>0</td>\n",
       "    </tr>\n",
       "    <tr>\n",
       "      <th>7</th>\n",
       "      <td>0.1714</td>\n",
       "      <td>0.6364</td>\n",
       "      <td>0.0847</td>\n",
       "      <td>0.0417</td>\n",
       "      <td>0</td>\n",
       "    </tr>\n",
       "    <tr>\n",
       "      <th>38</th>\n",
       "      <td>0.0000</td>\n",
       "      <td>0.4545</td>\n",
       "      <td>0.0508</td>\n",
       "      <td>0.0417</td>\n",
       "      <td>0</td>\n",
       "    </tr>\n",
       "    <tr>\n",
       "      <th>105</th>\n",
       "      <td>0.9143</td>\n",
       "      <td>0.4545</td>\n",
       "      <td>0.9492</td>\n",
       "      <td>0.8333</td>\n",
       "      <td>1</td>\n",
       "    </tr>\n",
       "  </tbody>\n",
       "</table>\n",
       "</div>"
      ],
      "text/plain": [
       "     sepal_length  sepal_width  petal_length  petal_width  species\n",
       "17         0.2000       0.6818        0.0678       0.0833        0\n",
       "44         0.2000       0.8182        0.1525       0.1250        0\n",
       "7          0.1714       0.6364        0.0847       0.0417        0\n",
       "38         0.0000       0.4545        0.0508       0.0417        0\n",
       "105        0.9143       0.4545        0.9492       0.8333        1"
      ]
     },
     "execution_count": 13,
     "metadata": {},
     "output_type": "execute_result"
    }
   ],
   "source": [
    "train_df.head()"
   ]
  },
  {
   "cell_type": "code",
   "execution_count": 14,
   "metadata": {},
   "outputs": [
    {
     "data": {
      "text/html": [
       "<div>\n",
       "<style scoped>\n",
       "    .dataframe tbody tr th:only-of-type {\n",
       "        vertical-align: middle;\n",
       "    }\n",
       "\n",
       "    .dataframe tbody tr th {\n",
       "        vertical-align: top;\n",
       "    }\n",
       "\n",
       "    .dataframe thead th {\n",
       "        text-align: right;\n",
       "    }\n",
       "</style>\n",
       "<table border=\"1\" class=\"dataframe\">\n",
       "  <thead>\n",
       "    <tr style=\"text-align: right;\">\n",
       "      <th></th>\n",
       "      <th>sepal_length</th>\n",
       "      <th>sepal_width</th>\n",
       "      <th>petal_length</th>\n",
       "      <th>petal_width</th>\n",
       "      <th>species</th>\n",
       "    </tr>\n",
       "  </thead>\n",
       "  <tbody>\n",
       "    <tr>\n",
       "      <th>25</th>\n",
       "      <td>0.1714</td>\n",
       "      <td>0.4545</td>\n",
       "      <td>0.1017</td>\n",
       "      <td>0.0417</td>\n",
       "      <td>0</td>\n",
       "    </tr>\n",
       "    <tr>\n",
       "      <th>149</th>\n",
       "      <td>0.4286</td>\n",
       "      <td>0.4545</td>\n",
       "      <td>0.6949</td>\n",
       "      <td>0.7083</td>\n",
       "      <td>1</td>\n",
       "    </tr>\n",
       "    <tr>\n",
       "      <th>82</th>\n",
       "      <td>0.4000</td>\n",
       "      <td>0.3182</td>\n",
       "      <td>0.4915</td>\n",
       "      <td>0.4583</td>\n",
       "      <td>2</td>\n",
       "    </tr>\n",
       "    <tr>\n",
       "      <th>56</th>\n",
       "      <td>0.5429</td>\n",
       "      <td>0.5909</td>\n",
       "      <td>0.6271</td>\n",
       "      <td>0.6250</td>\n",
       "      <td>2</td>\n",
       "    </tr>\n",
       "    <tr>\n",
       "      <th>55</th>\n",
       "      <td>0.3714</td>\n",
       "      <td>0.3636</td>\n",
       "      <td>0.5932</td>\n",
       "      <td>0.5000</td>\n",
       "      <td>2</td>\n",
       "    </tr>\n",
       "  </tbody>\n",
       "</table>\n",
       "</div>"
      ],
      "text/plain": [
       "     sepal_length  sepal_width  petal_length  petal_width  species\n",
       "25         0.1714       0.4545        0.1017       0.0417        0\n",
       "149        0.4286       0.4545        0.6949       0.7083        1\n",
       "82         0.4000       0.3182        0.4915       0.4583        2\n",
       "56         0.5429       0.5909        0.6271       0.6250        2\n",
       "55         0.3714       0.3636        0.5932       0.5000        2"
      ]
     },
     "execution_count": 14,
     "metadata": {},
     "output_type": "execute_result"
    }
   ],
   "source": [
    "test_df.head()"
   ]
  },
  {
   "cell_type": "code",
   "execution_count": 15,
   "metadata": {},
   "outputs": [],
   "source": [
    "# each dask partition will be written to a seperate parquet file\n",
    "train_df = train_df.repartition(npartitions=NUM_TRAINING_FILES)\n",
    "test_df = test_df.repartition(npartitions=NUM_TEST_FILES)\n",
    "\n",
    "train_df.to_parquet(OUT_TRAIN_PATH)\n",
    "test_df.to_parquet(OUT_TEST_PATH)"
   ]
  },
  {
   "cell_type": "code",
   "execution_count": null,
   "metadata": {},
   "outputs": [],
   "source": []
  }
 ],
 "metadata": {
  "kernelspec": {
   "display_name": "Python 3",
   "language": "python",
   "name": "python3"
  },
  "language_info": {
   "codemirror_mode": {
    "name": "ipython",
    "version": 3
   },
   "file_extension": ".py",
   "mimetype": "text/x-python",
   "name": "python",
   "nbconvert_exporter": "python",
   "pygments_lexer": "ipython3",
   "version": "3.7.3"
  }
 },
 "nbformat": 4,
 "nbformat_minor": 2
}
