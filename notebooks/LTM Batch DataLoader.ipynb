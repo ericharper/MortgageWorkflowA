{
 "cells": [
  {
   "cell_type": "code",
   "execution_count": 1,
   "metadata": {},
   "outputs": [],
   "source": [
    "import sys\n",
    "sys.path.insert(0, '/home/eharper/github_projects/evenoldridge/BatchDataloader')\n",
    "from batch_dataloader import BatchDataLoader\n",
    "from batch_dataset import BatchDataset\n",
    "from batch_dataset import TensorBatchDataset\n",
    "#from parquet_to_tensor import load_tensors_from_parquet\n",
    "\n",
    "import pandas as pd\n",
    "import numpy as np\n",
    "import pyarrow.parquet as pq\n",
    "import torch\n",
    "\n",
    "import glob"
   ]
  },
  {
   "cell_type": "code",
   "execution_count": 2,
   "metadata": {},
   "outputs": [],
   "source": [
    "parquet_dir = '/home/eharper/yagr_projects/pytorch-dataloading/train_parquet'\n",
    "parquet_filepaths = glob.glob(parquet_dir + '/*.parquet')"
   ]
  },
  {
   "cell_type": "code",
   "execution_count": 3,
   "metadata": {},
   "outputs": [
    {
     "name": "stdout",
     "output_type": "stream",
     "text": [
      "Epoch 0 | Parquet 1 | Batch 0\n",
      "(tensor([[0.2286, 0.9545, 0.0847, 0.0000, 0.0000],\n",
      "        [0.5143, 0.3636, 0.6441, 0.7083, 1.0000],\n",
      "        [0.3714, 0.8182, 0.1186, 0.0833, 0.0000],\n",
      "        [0.0571, 0.5455, 0.0678, 0.0417, 0.0000],\n",
      "        [0.1429, 0.5000, 0.0847, 0.0000, 0.0000],\n",
      "        [0.5714, 0.5455, 0.5932, 0.5833, 2.0000],\n",
      "        [0.3143, 0.1818, 0.4746, 0.4167, 2.0000],\n",
      "        [0.6286, 0.4091, 0.6102, 0.5000, 2.0000],\n",
      "        [0.2286, 0.6818, 0.0847, 0.0417, 0.0000],\n",
      "        [0.4571, 0.4545, 0.6441, 0.7083, 1.0000],\n",
      "        [0.1143, 0.4545, 0.0678, 0.0833, 0.0000],\n",
      "        [0.5429, 0.1364, 0.5763, 0.5000, 2.0000],\n",
      "        [0.4571, 0.4091, 0.5932, 0.5833, 2.0000],\n",
      "        [0.2857, 0.6364, 0.1186, 0.0417, 0.0000],\n",
      "        [0.6571, 0.4545, 0.7119, 0.9167, 1.0000],\n",
      "        [0.3429, 0.4091, 0.4407, 0.5000, 2.0000],\n",
      "        [0.0571, 0.7273, 0.0000, 0.0417, 0.0000],\n",
      "        [0.4000, 0.2727, 0.5085, 0.4583, 2.0000],\n",
      "        [0.5429, 0.2273, 0.6610, 0.5833, 2.0000],\n",
      "        [0.4571, 0.3182, 0.6949, 0.6250, 2.0000]], dtype=torch.float64),)\n",
      "Epoch 1 | Parquet 1 | Batch 0\n",
      "(tensor([[0.6286, 0.4091, 0.6102, 0.5000, 2.0000],\n",
      "        [0.1143, 0.4545, 0.0678, 0.0833, 0.0000],\n",
      "        [0.5714, 0.5455, 0.7288, 0.9167, 1.0000],\n",
      "        [0.4571, 0.6364, 0.5932, 0.6250, 2.0000],\n",
      "        [0.3143, 0.1818, 0.4746, 0.4167, 2.0000],\n",
      "        [0.2857, 0.7727, 0.0847, 0.0417, 0.0000],\n",
      "        [0.5429, 0.3636, 0.6949, 0.5833, 1.0000],\n",
      "        [0.8000, 0.4545, 0.8136, 0.6250, 1.0000],\n",
      "        [0.3714, 0.8182, 0.1186, 0.0833, 0.0000],\n",
      "        [0.3429, 0.4091, 0.4407, 0.5000, 2.0000],\n",
      "        [0.5143, 0.3636, 0.6441, 0.7083, 1.0000],\n",
      "        [0.6000, 0.4545, 0.8136, 0.8750, 1.0000],\n",
      "        [0.2857, 0.6364, 0.1186, 0.0417, 0.0000],\n",
      "        [0.1429, 0.5000, 0.0847, 0.0000, 0.0000],\n",
      "        [0.2286, 0.9545, 0.0847, 0.0000, 0.0000],\n",
      "        [0.4571, 0.4091, 0.5932, 0.5833, 2.0000],\n",
      "        [0.5429, 0.2273, 0.6610, 0.5833, 2.0000],\n",
      "        [0.5714, 0.5455, 0.5932, 0.5833, 2.0000],\n",
      "        [0.2286, 0.6818, 0.0847, 0.0417, 0.0000],\n",
      "        [0.6857, 0.3636, 0.6441, 0.5417, 2.0000]], dtype=torch.float64),)\n"
     ]
    }
   ],
   "source": [
    "num_epochs = 2\n",
    "\n",
    "for epoch in range(num_epochs):\n",
    "    \n",
    "    for parquet_idx, parquet_path in enumerate(parquet_filepaths):\n",
    "        \n",
    "        #print(parquet_path)\n",
    "        \n",
    "        parquet = pq.read_table(parquet_path)\n",
    "\n",
    "        tensors = [torch.from_numpy(parquet.to_pandas().values)]\n",
    "\n",
    "        tensor_batch_dataset = TensorBatchDataset(tensors, batch_size=20)\n",
    "\n",
    "        batch_loader = BatchDataLoader(tensor_batch_dataset,\n",
    "                                       shuffle=True,\n",
    "                                       drop_last=True)\n",
    "\n",
    "        for batch_idx, batch in enumerate(batch_loader):\n",
    "            \n",
    "            if parquet_idx == 1 and batch_idx == 0:\n",
    "                print('Epoch', epoch, '| Parquet', parquet_idx, '| Batch', batch_idx)\n",
    "                print(batch)"
   ]
  },
  {
   "cell_type": "code",
   "execution_count": null,
   "metadata": {},
   "outputs": [],
   "source": []
  }
 ],
 "metadata": {
  "kernelspec": {
   "display_name": "Python 3",
   "language": "python",
   "name": "python3"
  },
  "language_info": {
   "codemirror_mode": {
    "name": "ipython",
    "version": 3
   },
   "file_extension": ".py",
   "mimetype": "text/x-python",
   "name": "python",
   "nbconvert_exporter": "python",
   "pygments_lexer": "ipython3",
   "version": "3.7.3"
  }
 },
 "nbformat": 4,
 "nbformat_minor": 2
}
